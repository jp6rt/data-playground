{
 "cells": [
  {
   "cell_type": "code",
   "execution_count": 1,
   "id": "6995e9ca",
   "metadata": {},
   "outputs": [],
   "source": [
    "import numpy as np\n",
    "import pandas as pd\n",
    "import seaborn as sns\n",
    "import matplotlib.pyplot as plt\n",
    "from pyspark.sql import SparkSession, Row\n",
    "from datetime import datetime"
   ]
  },
  {
   "cell_type": "code",
   "execution_count": 2,
   "id": "7f8554bf",
   "metadata": {},
   "outputs": [],
   "source": [
    "path_prefix = '/home/joeyresuento/Projects/data_training/data_sets/ml-25m'\n",
    "# movies = pd.read_csv(f'{path_prefix}/movies.csv')\n",
    "# ratings = pd.read_csv(f'{path_prefix}/ratings.csv')"
   ]
  },
  {
   "cell_type": "code",
   "execution_count": 18,
   "id": "93fe86b6",
   "metadata": {},
   "outputs": [],
   "source": [
    "spark = SparkSession \\\n",
    "    .builder \\\n",
    "    # .master(\"spark://aljresuento1.arcanys.com:7077\") \\ # doesn't seem to be working\n",
    "    .appName(\"MyApp\") \\\n",
    "    .getOrCreate()\n",
    "\n",
    "spark.sparkContext.setLogLevel('ERROR')"
   ]
  },
  {
   "cell_type": "code",
   "execution_count": 19,
   "id": "c2701cdf",
   "metadata": {},
   "outputs": [],
   "source": [
    "movies_df = spark.read.option(\"header\", True).csv(f'{path_prefix}/movies.csv')\n",
    "ratings_df = spark.read.option(\"header\", True).csv(f'{path_prefix}/ratings.csv')"
   ]
  },
  {
   "cell_type": "code",
   "execution_count": 20,
   "id": "90479f1f",
   "metadata": {},
   "outputs": [],
   "source": [
    "ratings_df.createOrReplaceTempView('ratings')\n",
    "movies_df.createOrReplaceTempView('movies')\n",
    "# spark.sql(\"SELECT COUNT(1) FROM movies\").show()\n",
    "# spark.sql(\"SELECT COUNT(1) FROM ratings\").show()"
   ]
  },
  {
   "cell_type": "code",
   "execution_count": 21,
   "id": "e53808e4",
   "metadata": {},
   "outputs": [],
   "source": [
    "# top100_highest_rated_movies = spark.sql(\"SELECT \\\n",
    "#    movieId, rating, COUNT(1) as count \\\n",
    "#    FROM ratings \\\n",
    "#    GROUP BY movieId, rating \\\n",
    "#    ORDER BY rating, count DESC LIMIT 100\")\n",
    "\n",
    "# top100_highest_rated_movie_ids = top100_highest_rated_movies \\\n",
    "#    .rdd.map(lambda r: int(r.movieId)) \\\n",
    "#    .collect()"
   ]
  },
  {
   "cell_type": "code",
   "execution_count": 22,
   "id": "0b4f9b0f",
   "metadata": {},
   "outputs": [
    {
     "name": "stdout",
     "output_type": "stream",
     "text": [
      "root\n",
      " |-- movieId: string (nullable = true)\n",
      " |-- title: string (nullable = true)\n",
      " |-- genres: string (nullable = true)\n",
      "\n",
      "root\n",
      " |-- userId: string (nullable = true)\n",
      " |-- movieId: string (nullable = true)\n",
      " |-- rating: string (nullable = true)\n",
      " |-- timestamp: string (nullable = true)\n",
      "\n"
     ]
    }
   ],
   "source": [
    "movies_df.printSchema()\n",
    "ratings_df.printSchema()"
   ]
  },
  {
   "cell_type": "code",
   "execution_count": 23,
   "id": "f59c1f61",
   "metadata": {},
   "outputs": [],
   "source": [
    "movie_ratings_df = spark.sql(\"SELECT m.movieId, m.title, m.genres, r.userId, r.rating, r.timestamp \\\n",
    "FROM movies m INNER JOIN ratings r ON m.movieId = r.movieId\")"
   ]
  },
  {
   "cell_type": "code",
   "execution_count": 24,
   "id": "f3459156",
   "metadata": {},
   "outputs": [],
   "source": [
    "# movie_ratings_df.take(10)[0]"
   ]
  },
  {
   "cell_type": "code",
   "execution_count": 25,
   "id": "f577e6eb",
   "metadata": {},
   "outputs": [],
   "source": [
    "def enrich_row(row):\n",
    "    year = datetime.fromtimestamp(int(row.timestamp)).year\n",
    "    return Row(\n",
    "        movieId=int(row.movieId),\n",
    "        title=row.title,\n",
    "        genres=row.genres,\n",
    "        userId=int(row.userId),\n",
    "        rating=float(row.rating),\n",
    "        timestamp=int(row.timestamp),\n",
    "        year=year\n",
    "    )\n",
    "\n",
    "enriched_movie_ratings = movie_ratings_df.rdd.map(enrich_row)"
   ]
  },
  {
   "cell_type": "code",
   "execution_count": 26,
   "id": "08269cc1",
   "metadata": {},
   "outputs": [
    {
     "name": "stdout",
     "output_type": "stream",
     "text": [
      "root\n",
      " |-- movieId: long (nullable = true)\n",
      " |-- title: string (nullable = true)\n",
      " |-- genres: string (nullable = true)\n",
      " |-- userId: long (nullable = true)\n",
      " |-- rating: double (nullable = true)\n",
      " |-- timestamp: long (nullable = true)\n",
      " |-- year: long (nullable = true)\n",
      "\n"
     ]
    }
   ],
   "source": [
    "enriched_movie_ratings_df = spark.createDataFrame(enriched_movie_ratings)\n",
    "enriched_movie_ratings_df.createOrReplaceTempView('movies_ratings')\n",
    "enriched_movie_ratings_df.printSchema()"
   ]
  },
  {
   "cell_type": "code",
   "execution_count": 1,
   "id": "677a4820",
   "metadata": {},
   "outputs": [],
   "source": [
    "# ratings_count_by_year = enriched_movie_ratings_df.rdd \\\n",
    "#    .map(lambda r: (r.year, 1)) \\\n",
    "#    .reduceByKey(lambda a, b: a + b)"
   ]
  },
  {
   "cell_type": "code",
   "execution_count": 2,
   "id": "fd5f5db5",
   "metadata": {},
   "outputs": [],
   "source": [
    "# ratings_count_by_year_list = ratings_count_by_year.collect()"
   ]
  },
  {
   "cell_type": "code",
   "execution_count": 3,
   "id": "661940d8",
   "metadata": {},
   "outputs": [],
   "source": [
    "# year_list = []\n",
    "# year_rating_list = []\n",
    "# for i in sorted(ratings_count_by_year_list, key=lambda x: x[0]):\n",
    "#    year_list.append(i[0])\n",
    "#    year_rating_list.append(i[1])\n",
    "\n",
    "# year_rating_pd = pd.DataFrame({\n",
    "#    'year': year_list,\n",
    "#    'rating': year_rating_list\n",
    "# })"
   ]
  },
  {
   "cell_type": "code",
   "execution_count": 4,
   "id": "62b2b326",
   "metadata": {},
   "outputs": [],
   "source": [
    "# plt.figure(figsize=(20, 6))\n",
    "# year_rating_pd[year_rating_pd['year'] > 2014]\n",
    "# sns.barplot(year_rating_pd, x='year', y='rating')"
   ]
  },
  {
   "cell_type": "code",
   "execution_count": 5,
   "id": "6145ff56",
   "metadata": {},
   "outputs": [
    {
     "ename": "NameError",
     "evalue": "name 'spark' is not defined",
     "output_type": "error",
     "traceback": [
      "\u001b[0;31m---------------------------------------------------------------------------\u001b[0m",
      "\u001b[0;31mNameError\u001b[0m                                 Traceback (most recent call last)",
      "Cell \u001b[0;32mIn[5], line 1\u001b[0m\n\u001b[0;32m----> 1\u001b[0m movies_ratings_count \u001b[38;5;241m=\u001b[39m \u001b[43mspark\u001b[49m\u001b[38;5;241m.\u001b[39msql(\u001b[38;5;124m\"\u001b[39m\u001b[38;5;124mSELECT \u001b[39m\u001b[38;5;130;01m\\\u001b[39;00m\n\u001b[1;32m      2\u001b[0m \u001b[38;5;124m                                        movieId, title, avg(rating) as avg_rating, count(rating) as count \u001b[39m\u001b[38;5;130;01m\\\u001b[39;00m\n\u001b[1;32m      3\u001b[0m \u001b[38;5;124m                                        FROM movies_ratings \u001b[39m\u001b[38;5;130;01m\\\u001b[39;00m\n\u001b[1;32m      4\u001b[0m \u001b[38;5;124m                                        GROUP BY movieId, title \u001b[39m\u001b[38;5;130;01m\\\u001b[39;00m\n\u001b[1;32m      5\u001b[0m \u001b[38;5;124m                                        ORDER BY count DESC, avg_rating DESC\u001b[39m\u001b[38;5;124m\"\u001b[39m)\n",
      "\u001b[0;31mNameError\u001b[0m: name 'spark' is not defined"
     ]
    }
   ],
   "source": [
    "movies_ratings_count = spark.sql(\"SELECT \\\n",
    "                                        movieId, title, avg(rating) as avg_rating, count(rating) as count \\\n",
    "                                        FROM movies_ratings \\\n",
    "                                        GROUP BY movieId, title \\\n",
    "                                        ORDER BY count DESC, avg_rating DESC\")"
   ]
  },
  {
   "cell_type": "code",
   "execution_count": 16,
   "id": "c6e75b78",
   "metadata": {},
   "outputs": [
    {
     "name": "stderr",
     "output_type": "stream",
     "text": [
      "                                                                                \r"
     ]
    }
   ],
   "source": [
    "top100_highest_rated_movies = movies_ratings_count.take(100)"
   ]
  },
  {
   "cell_type": "code",
   "execution_count": 17,
   "id": "6c9765e6",
   "metadata": {},
   "outputs": [
    {
     "data": {
      "text/plain": [
       "[Row(movieId=356, title='Forrest Gump (1994)', avg_rating=4.048011436845787, count=81491),\n",
       " Row(movieId=318, title='Shawshank Redemption, The (1994)', avg_rating=4.413576004516335, count=81482),\n",
       " Row(movieId=296, title='Pulp Fiction (1994)', avg_rating=4.188912039361382, count=79672),\n",
       " Row(movieId=593, title='Silence of the Lambs, The (1991)', avg_rating=4.151341616415071, count=74127),\n",
       " Row(movieId=2571, title='Matrix, The (1999)', avg_rating=4.154099127610975, count=72674),\n",
       " Row(movieId=260, title='Star Wars: Episode IV - A New Hope (1977)', avg_rating=4.120188599618726, count=68717),\n",
       " Row(movieId=480, title='Jurassic Park (1993)', avg_rating=3.6791749812920926, count=64144),\n",
       " Row(movieId=527, title=\"Schindler's List (1993)\", avg_rating=4.247579083279535, count=60411),\n",
       " Row(movieId=110, title='Braveheart (1995)', avg_rating=4.002272573668559, count=59184),\n",
       " Row(movieId=2959, title='Fight Club (1999)', avg_rating=4.228310618821568, count=58773),\n",
       " Row(movieId=589, title='Terminator 2: Judgment Day (1991)', avg_rating=3.94637410899458, count=57379),\n",
       " Row(movieId=1196, title='Star Wars: Episode V - The Empire Strikes Back (1980)', avg_rating=4.144122313069856, count=57361),\n",
       " Row(movieId=1, title='Toy Story (1995)', avg_rating=3.893707794587238, count=57309),\n",
       " Row(movieId=4993, title='Lord of the Rings: The Fellowship of the Ring, The (2001)', avg_rating=4.091188818716808, count=55736),\n",
       " Row(movieId=50, title='Usual Suspects, The (1995)', avg_rating=4.284353213163313, count=55366),\n",
       " Row(movieId=1210, title='Star Wars: Episode VI - Return of the Jedi (1983)', avg_rating=3.996512919496695, count=54917),\n",
       " Row(movieId=1198, title='Raiders of the Lost Ark (Indiana Jones and the Raiders of the Lost Ark) (1981)', avg_rating=4.123923182441701, count=54675),\n",
       " Row(movieId=2858, title='American Beauty (1999)', avg_rating=4.107340423550448, count=53689),\n",
       " Row(movieId=858, title='Godfather, The (1972)', avg_rating=4.324336165187245, count=52498),\n",
       " Row(movieId=5952, title='Lord of the Rings: The Two Towers, The (2002)', avg_rating=4.0680511556963515, count=51138),\n",
       " Row(movieId=7153, title='Lord of the Rings: The Return of the King, The (2003)', avg_rating=4.0903399807075225, count=50797),\n",
       " Row(movieId=47, title='Seven (a.k.a. Se7en) (1995)', avg_rating=4.0791663372598626, count=50596),\n",
       " Row(movieId=457, title='Fugitive, The (1993)', avg_rating=3.9721584270115637, count=49638),\n",
       " Row(movieId=1270, title='Back to the Future (1985)', avg_rating=3.9538763988305274, count=49595),\n",
       " Row(movieId=780, title='Independence Day (a.k.a. ID4) (1996)', avg_rating=3.373931536542473, count=48902),\n",
       " Row(movieId=150, title='Apollo 13 (1995)', avg_rating=3.87355561527172, count=48377),\n",
       " Row(movieId=608, title='Fargo (1996)', avg_rating=4.111421282646425, count=47823),\n",
       " Row(movieId=32, title='Twelve Monkeys (a.k.a. 12 Monkeys) (1995)', avg_rating=3.9057678412037236, count=47054),\n",
       " Row(movieId=2028, title='Saving Private Ryan (1998)', avg_rating=4.044107902443195, count=46783),\n",
       " Row(movieId=2762, title='Sixth Sense, The (1999)', avg_rating=4.009751032903046, count=46713),\n",
       " Row(movieId=3578, title='Gladiator (2000)', avg_rating=3.951473486205661, count=44656),\n",
       " Row(movieId=592, title='Batman (1989)', avg_rating=3.4069031965540693, count=44110),\n",
       " Row(movieId=588, title='Aladdin (1992)', avg_rating=3.6987526802388584, count=43373),\n",
       " Row(movieId=364, title='Lion King, The (1994)', avg_rating=3.817136507193824, count=42745),\n",
       " Row(movieId=4306, title='Shrek (2001)', avg_rating=3.7548282627709617, count=42303),\n",
       " Row(movieId=380, title='True Lies (1994)', avg_rating=3.4922731744774795, count=41673),\n",
       " Row(movieId=590, title='Dances with Wolves (1990)', avg_rating=3.7256878529376425, count=41615),\n",
       " Row(movieId=58559, title='Dark Knight, The (2008)', avg_rating=4.166538211421277, count=41519),\n",
       " Row(movieId=377, title='Speed (1994)', avg_rating=3.481247881458525, count=41302),\n",
       " Row(movieId=4226, title='Memento (2000)', avg_rating=4.1499575191163975, count=41195),\n",
       " Row(movieId=1580, title='Men in Black (a.k.a. MIB) (1997)', avg_rating=3.5817083457378187, count=40308),\n",
       " Row(movieId=1704, title='Good Will Hunting (1997)', avg_rating=4.074935168305646, count=38947),\n",
       " Row(movieId=79132, title='Inception (2010)', avg_rating=4.155508420105412, count=38895),\n",
       " Row(movieId=1240, title='Terminator, The (1984)', avg_rating=3.8968066922200353, count=38612),\n",
       " Row(movieId=1291, title='Indiana Jones and the Last Crusade (1989)', avg_rating=3.985201012978791, count=37908),\n",
       " Row(movieId=1197, title='Princess Bride, The (1987)', avg_rating=4.129097007632781, count=37863),\n",
       " Row(movieId=1136, title='Monty Python and the Holy Grail (1975)', avg_rating=4.147655276621689, count=37723),\n",
       " Row(movieId=1721, title='Titanic (1997)', avg_rating=3.381151887993212, count=37712),\n",
       " Row(movieId=1265, title='Groundhog Day (1993)', avg_rating=3.8917614844746917, count=37616),\n",
       " Row(movieId=344, title='Ace Ventura: Pet Detective (1994)', avg_rating=2.9898406002189413, count=37453),\n",
       " Row(movieId=6539, title='Pirates of the Caribbean: The Curse of the Black Pearl (2003)', avg_rating=3.7892121309802027, count=37227),\n",
       " Row(movieId=648, title='Mission: Impossible (1996)', avg_rating=3.4016470905899823, count=37035),\n",
       " Row(movieId=1036, title='Die Hard (1988)', avg_rating=3.9332307440897702, count=36716),\n",
       " Row(movieId=541, title='Blade Runner (1982)', avg_rating=4.115838373930576, count=36702),\n",
       " Row(movieId=1214, title='Alien (1979)', avg_rating=4.055518882196001, count=36357),\n",
       " Row(movieId=1193, title=\"One Flew Over the Cuckoo's Nest (1975)\", avg_rating=4.2186616007543405, count=36058),\n",
       " Row(movieId=595, title='Beauty and the Beast (1991)', avg_rating=3.6809198555552447, count=35723),\n",
       " Row(movieId=6377, title='Finding Nemo (2003)', avg_rating=3.8339767227471766, count=34712),\n",
       " Row(movieId=1089, title='Reservoir Dogs (1992)', avg_rating=4.092293699832535, count=34634),\n",
       " Row(movieId=367, title='Mask, The (1994)', avg_rating=3.183039195863782, count=34621),\n",
       " Row(movieId=1097, title='E.T. the Extra-Terrestrial (1982)', avg_rating=3.7330790127738283, count=34602),\n",
       " Row(movieId=4886, title='Monsters, Inc. (2001)', avg_rating=3.8486202707393264, count=34572),\n",
       " Row(movieId=4973, title=\"Amelie (Fabuleux destin d'Amélie Poulain, Le) (2001)\", avg_rating=4.101282051282051, count=34320),\n",
       " Row(movieId=597, title='Pretty Woman (1990)', avg_rating=3.42649120757142, count=34234),\n",
       " Row(movieId=500, title='Mrs. Doubtfire (1993)', avg_rating=3.3863104638240626, count=34194),\n",
       " Row(movieId=1221, title='Godfather: Part II, The (1974)', avg_rating=4.2617585117585115, count=34188),\n",
       " Row(movieId=6874, title='Kill Bill: Vol. 1 (2003)', avg_rating=3.8578206757915274, count=33827),\n",
       " Row(movieId=1682, title='Truman Show, The (1998)', avg_rating=3.859743262873914, count=33731),\n",
       " Row(movieId=165, title='Die Hard: With a Vengeance (1995)', avg_rating=3.506566659749192, count=33731),\n",
       " Row(movieId=293, title='Léon: The Professional (a.k.a. The Professional) (Léon) (1994)', avg_rating=4.0885985748218525, count=33680),\n",
       " Row(movieId=7361, title='Eternal Sunshine of the Spotless Mind (2004)', avg_rating=4.066350639578631, count=33225),\n",
       " Row(movieId=1527, title='Fifth Element, The (1997)', avg_rating=3.7699454046390977, count=33153),\n",
       " Row(movieId=1213, title='Goodfellas (1990)', avg_rating=4.1805253650920005, count=32663),\n",
       " Row(movieId=3793, title='X-Men (2000)', avg_rating=3.559661183402897, count=32584),\n",
       " Row(movieId=2716, title='Ghostbusters (a.k.a. Ghost Busters) (1984)', avg_rating=3.759075907590759, count=32118),\n",
       " Row(movieId=733, title='Rock, The (1996)', avg_rating=3.6686106507395477, count=31979),\n",
       " Row(movieId=231, title='Dumb & Dumber (Dumb and Dumber) (1994)', avg_rating=2.964968752944132, count=31843),\n",
       " Row(movieId=2628, title='Star Wars: Episode I - The Phantom Menace (1999)', avg_rating=3.0698558281245094, count=31837),\n",
       " Row(movieId=4963, title=\"Ocean's Eleven (2001)\", avg_rating=3.80918961447679, count=31775),\n",
       " Row(movieId=4995, title='Beautiful Mind, A (2001)', avg_rating=3.9610988664987405, count=31760),\n",
       " Row(movieId=1200, title='Aliens (1986)', avg_rating=3.9993372048983713, count=31684),\n",
       " Row(movieId=34, title='Babe (1995)', avg_rating=3.6031917599186163, count=31456),\n",
       " Row(movieId=2329, title='American History X (1998)', avg_rating=4.1400006419103255, count=31157),\n",
       " Row(movieId=153, title='Batman Forever (1995)', avg_rating=2.8716600752387382, count=31101),\n",
       " Row(movieId=736, title='Twister (1996)', avg_rating=3.1890463917525773, count=31040),\n",
       " Row(movieId=316, title='Stargate (1994)', avg_rating=3.3710611452604335, count=30910),\n",
       " Row(movieId=33794, title='Batman Begins (2005)', avg_rating=3.9299634988919308, count=30684),\n",
       " Row(movieId=8961, title='Incredibles, The (2004)', avg_rating=3.854885151495321, count=30562),\n",
       " Row(movieId=3147, title='Green Mile, The (1999)', avg_rating=4.027754084377666, count=30482),\n",
       " Row(movieId=5445, title='Minority Report (2002)', avg_rating=3.6899983440967046, count=30195),\n",
       " Row(movieId=5349, title='Spider-Man (2002)', avg_rating=3.4786404531822726, count=30010),\n",
       " Row(movieId=2997, title='Being John Malkovich (1999)', avg_rating=3.9334735998396955, count=29943),\n",
       " Row(movieId=1258, title='Shining, The (1980)', avg_rating=4.0278640874010225, count=29931),\n",
       " Row(movieId=1206, title='Clockwork Orange, A (1971)', avg_rating=3.9841907824222935, count=29856),\n",
       " Row(movieId=586, title='Home Alone (1990)', avg_rating=3.141875423155044, count=29540),\n",
       " Row(movieId=111, title='Taxi Driver (1976)', avg_rating=4.083479216009336, count=29133),\n",
       " Row(movieId=5418, title='Bourne Identity, The (2002)', avg_rating=3.908775143429875, count=28934),\n",
       " Row(movieId=924, title='2001: A Space Odyssey (1968)', avg_rating=3.981349757113116, count=28820),\n",
       " Row(movieId=778, title='Trainspotting (1996)', avg_rating=4.007664971082154, count=28702),\n",
       " Row(movieId=587, title='Ghost (1990)', avg_rating=3.4342123720016833, count=28516)]"
      ]
     },
     "execution_count": 17,
     "metadata": {},
     "output_type": "execute_result"
    }
   ],
   "source": [
    "top100_highest_rated_movies"
   ]
  },
  {
   "cell_type": "code",
   "execution_count": null,
   "id": "ea81d020",
   "metadata": {},
   "outputs": [],
   "source": []
  }
 ],
 "metadata": {
  "kernelspec": {
   "display_name": "Python 3 (ipykernel)",
   "language": "python",
   "name": "python3"
  },
  "language_info": {
   "codemirror_mode": {
    "name": "ipython",
    "version": 3
   },
   "file_extension": ".py",
   "mimetype": "text/x-python",
   "name": "python",
   "nbconvert_exporter": "python",
   "pygments_lexer": "ipython3",
   "version": "3.10.9"
  }
 },
 "nbformat": 4,
 "nbformat_minor": 5
}
