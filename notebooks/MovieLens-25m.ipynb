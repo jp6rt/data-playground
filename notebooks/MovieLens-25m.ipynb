{
 "cells": [
  {
   "cell_type": "code",
   "execution_count": 17,
   "id": "6995e9ca",
   "metadata": {},
   "outputs": [],
   "source": [
    "import numpy as np\n",
    "import pandas as pd\n",
    "import matplotlib.pyplot as plt\n",
    "from pyspark.sql import SparkSession"
   ]
  },
  {
   "cell_type": "code",
   "execution_count": 18,
   "id": "7f8554bf",
   "metadata": {},
   "outputs": [],
   "source": [
    "path_prefix = '/home/joeyresuento/Projects/data_training/data_sets/ml-25m'\n",
    "# movies = pd.read_csv(f'{path_prefix}/movies.csv')\n",
    "# ratings = pd.read_csv(f'{path_prefix}/ratings.csv')"
   ]
  },
  {
   "cell_type": "code",
   "execution_count": 19,
   "id": "93fe86b6",
   "metadata": {},
   "outputs": [],
   "source": [
    "spark = SparkSession \\\n",
    "    .builder \\\n",
    "    .appName(\"MyApp\") \\\n",
    "    .getOrCreate()\n",
    "\n",
    "spark.sparkContext.setLogLevel('ERROR')"
   ]
  },
  {
   "cell_type": "code",
   "execution_count": 20,
   "id": "c2701cdf",
   "metadata": {},
   "outputs": [],
   "source": [
    "movies_df = spark.read.option(\"header\", True).csv(f'{path_prefix}/movies.csv')\n",
    "ratings_df = spark.read.option(\"header\", True).csv(f'{path_prefix}/ratings.csv')"
   ]
  },
  {
   "cell_type": "code",
   "execution_count": 22,
   "id": "90479f1f",
   "metadata": {},
   "outputs": [],
   "source": [
    "ratings_df.createOrReplaceTempView('ratings')\n",
    "movies_df.createOrReplaceTempView('movies')\n",
    "# spark.sql(\"SELECT COUNT(1) FROM movies\").show()\n",
    "# spark.sql(\"SELECT COUNT(1) FROM ratings\").show()"
   ]
  },
  {
   "cell_type": "code",
   "execution_count": 23,
   "id": "e53808e4",
   "metadata": {},
   "outputs": [],
   "source": [
    "top100_highest_rated_movies = spark.sql(\"SELECT \\\n",
    "    movieId, rating, COUNT(1) as count \\\n",
    "    FROM ratings \\\n",
    "    GROUP BY movieId, rating \\\n",
    "    ORDER BY rating, count DESC LIMIT 100\")"
   ]
  },
  {
   "cell_type": "code",
   "execution_count": 24,
   "id": "8ea64c2c",
   "metadata": {},
   "outputs": [
    {
     "name": "stderr",
     "output_type": "stream",
     "text": [
      "                                                                                \r"
     ]
    }
   ],
   "source": [
    "top100_highest_rated_movie_ids = top100_highest_rated_movies \\\n",
    "    .rdd.map(lambda r: int(r.movieId)) \\\n",
    "    .collect()"
   ]
  },
  {
   "cell_type": "code",
   "execution_count": 29,
   "id": "0b4f9b0f",
   "metadata": {},
   "outputs": [
    {
     "name": "stdout",
     "output_type": "stream",
     "text": [
      "root\n",
      " |-- movieId: string (nullable = true)\n",
      " |-- title: string (nullable = true)\n",
      " |-- genres: string (nullable = true)\n",
      "\n",
      "root\n",
      " |-- userId: string (nullable = true)\n",
      " |-- movieId: string (nullable = true)\n",
      " |-- rating: string (nullable = true)\n",
      " |-- timestamp: string (nullable = true)\n",
      "\n"
     ]
    }
   ],
   "source": [
    "movies_df.printSchema()\n",
    "ratings_df.printSchema()"
   ]
  },
  {
   "cell_type": "code",
   "execution_count": 30,
   "id": "f59c1f61",
   "metadata": {},
   "outputs": [],
   "source": [
    "movie_ratings_df = spark.sql(\"SELECT m.movieId, m.title, m.genres, r.userId, r.rating, r.timestamp \\\n",
    "FROM movies m INNER JOIN ratings r ON m.movieId = r.movieId\")"
   ]
  },
  {
   "cell_type": "code",
   "execution_count": 35,
   "id": "d38f8eae",
   "metadata": {},
   "outputs": [
    {
     "data": {
      "text/plain": [
       "[Row(movieId='296', title='Pulp Fiction (1994)', genres='Comedy|Crime|Drama|Thriller', userId='1', rating='5.0', timestamp='1147880044'),\n",
       " Row(movieId='306', title='Three Colors: Red (Trois couleurs: Rouge) (1994)', genres='Drama', userId='1', rating='3.5', timestamp='1147868817'),\n",
       " Row(movieId='307', title='Three Colors: Blue (Trois couleurs: Bleu) (1993)', genres='Drama', userId='1', rating='5.0', timestamp='1147868828'),\n",
       " Row(movieId='665', title='Underground (1995)', genres='Comedy|Drama|War', userId='1', rating='5.0', timestamp='1147878820'),\n",
       " Row(movieId='899', title=\"Singin' in the Rain (1952)\", genres='Comedy|Musical|Romance', userId='1', rating='3.5', timestamp='1147868510'),\n",
       " Row(movieId='1088', title='Dirty Dancing (1987)', genres='Drama|Musical|Romance', userId='1', rating='4.0', timestamp='1147868495'),\n",
       " Row(movieId='1175', title='Delicatessen (1991)', genres='Comedy|Drama|Romance', userId='1', rating='3.5', timestamp='1147868826'),\n",
       " Row(movieId='1217', title='Ran (1985)', genres='Drama|War', userId='1', rating='3.5', timestamp='1147878326'),\n",
       " Row(movieId='1237', title='Seventh Seal, The (Sjunde inseglet, Det) (1957)', genres='Drama', userId='1', rating='5.0', timestamp='1147868839'),\n",
       " Row(movieId='1250', title='Bridge on the River Kwai, The (1957)', genres='Adventure|Drama|War', userId='1', rating='4.0', timestamp='1147868414')]"
      ]
     },
     "execution_count": 35,
     "metadata": {},
     "output_type": "execute_result"
    }
   ],
   "source": [
    "movie_ratings_df.rdd.map()"
   ]
  },
  {
   "cell_type": "code",
   "execution_count": null,
   "id": "eca69e53",
   "metadata": {},
   "outputs": [],
   "source": []
  }
 ],
 "metadata": {
  "kernelspec": {
   "display_name": "Python 3 (ipykernel)",
   "language": "python",
   "name": "python3"
  },
  "language_info": {
   "codemirror_mode": {
    "name": "ipython",
    "version": 3
   },
   "file_extension": ".py",
   "mimetype": "text/x-python",
   "name": "python",
   "nbconvert_exporter": "python",
   "pygments_lexer": "ipython3",
   "version": "3.10.9"
  }
 },
 "nbformat": 4,
 "nbformat_minor": 5
}
